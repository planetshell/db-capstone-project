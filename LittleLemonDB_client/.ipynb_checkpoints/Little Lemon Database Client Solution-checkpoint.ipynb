{
 "cells": [
  {
   "cell_type": "markdown",
   "id": "46eb3a89",
   "metadata": {},
   "source": [
    "### Little Lemon Database Client Solution"
   ]
  },
  {
   "cell_type": "code",
   "execution_count": 1,
   "id": "7c320f0b",
   "metadata": {},
   "outputs": [
    {
     "name": "stdout",
     "output_type": "stream",
     "text": [
      "Requirement already satisfied: mysql-connector-python in c:\\users\\plane\\appdata\\local\\programs\\python\\python311\\lib\\site-packages (8.0.32)\n",
      "Requirement already satisfied: protobuf<=3.20.3,>=3.11.0 in c:\\users\\plane\\appdata\\local\\programs\\python\\python311\\lib\\site-packages (from mysql-connector-python) (3.20.3)\n"
     ]
    },
    {
     "name": "stderr",
     "output_type": "stream",
     "text": [
      "\n",
      "[notice] A new release of pip available: 22.3.1 -> 23.2.1\n",
      "[notice] To update, run: python.exe -m pip install --upgrade pip\n"
     ]
    }
   ],
   "source": [
    "# Install mysql-connector-python API\n",
    "!pip install mysql-connector-python"
   ]
  },
  {
   "cell_type": "code",
   "execution_count": 1,
   "id": "70c483b6",
   "metadata": {},
   "outputs": [
    {
     "name": "stdout",
     "output_type": "stream",
     "text": [
      "Importing MySQL connector/python module\n",
      "MySQL connector/python module installed successfully\n",
      "Establishing connection connection to database\n",
      "Connection established with database\n"
     ]
    }
   ],
   "source": [
    "# Import the connector module from the mysql-connector library \n",
    "print(\"Importing MySQL connector/python module\")\n",
    "import mysql.connector as connector\n",
    "print(\"MySQL connector/python module installed successfully\")\n",
    "\n",
    "\n",
    "# Establish connection to LittleLemondb database \n",
    "print(\"Establishing connection connection to database\")\n",
    "try:\n",
    "    connection = connector.connect(user =\"root\", password = \"root\")\n",
    "    print(\"Connection established with database\")\n",
    "except connector.error as er:\n",
    "    print(\"Unable to establish connection\")\n",
    "    print (\"Error Code: \", er.errno)\n",
    "    print(\"Error Msg: \", er.msg)"
   ]
  },
  {
   "cell_type": "code",
   "execution_count": 2,
   "id": "78b68eae",
   "metadata": {},
   "outputs": [
    {
     "name": "stdout",
     "output_type": "stream",
     "text": [
      "Cursor object created\n"
     ]
    }
   ],
   "source": [
    "# Create cursor objects to communicate with database \n",
    "cursor = connection.cursor() \n",
    "print(\"Cursor object created\")"
   ]
  },
  {
   "cell_type": "code",
   "execution_count": 3,
   "id": "644293e9",
   "metadata": {},
   "outputs": [],
   "source": [
    "cursor.execute(\"USE littlelemondb\")"
   ]
  },
  {
   "cell_type": "code",
   "execution_count": 17,
   "id": "1f7b71b5",
   "metadata": {},
   "outputs": [
    {
     "name": "stdout",
     "output_type": "stream",
     "text": [
      "[('bookings',), ('customer',), ('delivery',), ('employee',), ('menu',), ('menuitems',), ('orders',), ('ordersview',)]\n"
     ]
    }
   ],
   "source": [
    "show_table = \"show tables;\"\n",
    "cursor.execute(show_table)\n",
    "results = cursor.fetchall()\n",
    "print(results)"
   ]
  },
  {
   "cell_type": "code",
   "execution_count": 20,
   "id": "6a481e46",
   "metadata": {},
   "outputs": [
    {
     "name": "stdout",
     "output_type": "stream",
     "text": [
      "bookings\n",
      "customer\n",
      "delivery\n",
      "employee\n",
      "menu\n",
      "menuitems\n",
      "orders\n",
      "ordersview\n"
     ]
    }
   ],
   "source": [
    "for result in results:\n",
    "    print(result[0])"
   ]
  },
  {
   "cell_type": "code",
   "execution_count": 4,
   "id": "87a96ad0",
   "metadata": {},
   "outputs": [
    {
     "name": "stdout",
     "output_type": "stream",
     "text": [
      "[('Tom Jones', '3476583746', 'Tom@yahoo.com', Decimal('113')), ('Todd Harris', '7185469769', 'Todd@gmail.com', Decimal('107')), ('James Robinson', '9172258957', 'James@gmail.com', Decimal('175')), ('Todd Harris', '7185469769', 'Todd@gmail.com', Decimal('200')), ('Tom Jones', '3476583746', 'Tom@yahoo.com', Decimal('160'))]\n"
     ]
    }
   ],
   "source": [
    "TotalSalesQuery = \"\"\" SELECT CONCAT(customer.FirstName,' ',customer.LastName) AS Guest_FullName, customer.PhoneNumber, customer.email, \n",
    "orders.TotalCost FROM customer INNER JOIN orders on customer.CustomerID = orders.CustomerID WHERE TotalCost > 60 \"\"\"\n",
    "\n",
    "cursor.execute(TotalSalesQuery)\n",
    "results = cursor.fetchall()\n",
    "print(results)"
   ]
  },
  {
   "cell_type": "code",
   "execution_count": 9,
   "id": "3635d67e",
   "metadata": {},
   "outputs": [
    {
     "name": "stdout",
     "output_type": "stream",
     "text": [
      "Tom Jones    3476583746    Tom@yahoo.com    113\n",
      "Todd Harris    7185469769    Todd@gmail.com    107\n",
      "James Robinson    9172258957    James@gmail.com    175\n",
      "Todd Harris    7185469769    Todd@gmail.com    200\n",
      "Tom Jones    3476583746    Tom@yahoo.com    160\n"
     ]
    }
   ],
   "source": [
    "for result in results:\n",
    "    print(result[0],\"  \", result[1], \"  \", result[2],\"  \",result[3])"
   ]
  },
  {
   "cell_type": "code",
   "execution_count": null,
   "id": "7cc43af0",
   "metadata": {},
   "outputs": [],
   "source": []
  }
 ],
 "metadata": {
  "kernelspec": {
   "display_name": "Python 3 (ipykernel)",
   "language": "python",
   "name": "python3"
  },
  "language_info": {
   "codemirror_mode": {
    "name": "ipython",
    "version": 3
   },
   "file_extension": ".py",
   "mimetype": "text/x-python",
   "name": "python",
   "nbconvert_exporter": "python",
   "pygments_lexer": "ipython3",
   "version": "3.11.2"
  }
 },
 "nbformat": 4,
 "nbformat_minor": 5
}
